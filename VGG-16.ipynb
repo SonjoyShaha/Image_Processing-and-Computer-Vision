{
  "cells": [
    {
      "cell_type": "code",
      "execution_count": null,
      "metadata": {
        "id": "rDRJvY6XWnHb"
      },
      "outputs": [],
      "source": [
        "import tensorflow as tf\n",
        "import numpy as np\n",
        "import matplotlib.pyplot as plt\n",
        "\n",
        "import tensorflow_hub as hub\n",
        "import tensorflow_datasets as tfds\n",
        "\n",
        "from tensorflow.keras import layers\n",
        "from tensorflow.keras.preprocessing.image import ImageDataGenerator"
      ]
    },
    {
      "cell_type": "code",
      "execution_count": null,
      "metadata": {
        "id": "Geipjs-RWt-A"
      },
      "outputs": [],
      "source": [
        "import logging\n",
        "logger = tf.get_logger()\n",
        "logger.setLevel(logging.ERROR)"
      ]
    },
    {
      "cell_type": "code",
      "execution_count": null,
      "metadata": {
        "id": "XSSGGLF9Wv9J"
      },
      "outputs": [],
      "source": [
        "import keras\n",
        "from keras.applications.mobilenet import MobileNet\n",
        "\n",
        "from sklearn.metrics import confusion_matrix\n",
        "from keras.layers.core import Dense, Activation\n",
        "from keras.metrics import categorical_crossentropy\n",
        "from keras.metrics import binary_crossentropy\n",
        "from sklearn.model_selection import train_test_split\n",
        "from keras.preprocessing.image import ImageDataGenerator\n",
        "from keras.applications.mobilenet import preprocess_input\n",
        "from tensorflow.keras.preprocessing import image_dataset_from_directory\n",
        "import tensorflow as tf\n",
        "from keras.preprocessing import image"
      ]
    },
    {
      "cell_type": "code",
      "execution_count": null,
      "metadata": {
        "id": "sW9rIZvuWydv"
      },
      "outputs": [],
      "source": [
        "train_datagen = image.ImageDataGenerator(\n",
        "    rescale=1./255,\n",
        "    shear_range = 0.3,\n",
        "    zoom_range = 0.3,\n",
        "    horizontal_flip = True,\n",
        ")\n",
        "validation_datagen = image.ImageDataGenerator(\n",
        "    rescale = 1./255\n",
        ")"
      ]
    },
    {
      "cell_type": "code",
      "execution_count": null,
      "metadata": {
        "id": "XaC6WwSddnff",
        "colab": {
          "base_uri": "https://localhost:8080/"
        },
        "outputId": "5f4cd77e-2c70-4172-8fb6-5a68d676232a"
      },
      "outputs": [
        {
          "output_type": "stream",
          "name": "stdout",
          "text": [
            "Drive already mounted at /content/drive; to attempt to forcibly remount, call drive.mount(\"/content/drive\", force_remount=True).\n"
          ]
        }
      ],
      "source": [
        "from google.colab import drive\n",
        "drive.mount('/content/drive')"
      ]
    },
    {
      "cell_type": "code",
      "execution_count": null,
      "metadata": {
        "colab": {
          "base_uri": "https://localhost:8080/"
        },
        "id": "lKTTmoIVW0-7",
        "outputId": "27bf912f-5de1-4c53-bc44-133a418a4b9a"
      },
      "outputs": [
        {
          "output_type": "stream",
          "name": "stdout",
          "text": [
            "Found 10537 images belonging to 3 classes.\n",
            "Found 1504 images belonging to 3 classes.\n",
            "Found 3013 images belonging to 3 classes.\n"
          ]
        }
      ],
      "source": [
        "train = train_datagen.flow_from_directory(\n",
        "    '/content/drive/MyDrive/DataSetOfLungCancer/Lung_Cancer/Train70',\n",
        "    target_size = (224, 224),\n",
        "    batch_size = 32,\n",
        "    class_mode = 'categorical'\n",
        ")\n",
        "\n",
        "validation = validation_datagen.flow_from_directory(\n",
        "    '/content/drive/MyDrive/DataSetOfLungCancer/Lung_Cancer/Validation10',\n",
        "    target_size = (224, 224),\n",
        "    batch_size = 32,\n",
        "    class_mode = 'categorical'\n",
        ")\n",
        "\n",
        "test = validation_datagen.flow_from_directory(\n",
        "    '/content/drive/MyDrive/DataSetOfLungCancer/Lung_Cancer/Test20',\n",
        "    target_size = (224, 224),\n",
        "    batch_size = 32,\n",
        "    shuffle = False,\n",
        "    class_mode = 'categorical'\n",
        ")"
      ]
    },
    {
      "cell_type": "code",
      "execution_count": null,
      "metadata": {
        "colab": {
          "base_uri": "https://localhost:8080/"
        },
        "id": "6AenIIngW3W9",
        "outputId": "0c1106d6-5a73-4804-967b-9b004db768e8"
      },
      "outputs": [
        {
          "output_type": "stream",
          "name": "stdout",
          "text": [
            "Downloading data from https://storage.googleapis.com/tensorflow/keras-applications/vgg16/vgg16_weights_tf_dim_ordering_tf_kernels_notop.h5\n",
            "58889256/58889256 [==============================] - 3s 0us/step\n"
          ]
        }
      ],
      "source": [
        "VGG16 = tf.keras.applications.VGG16(\n",
        "    include_top=False, \n",
        "    weights = 'imagenet', \n",
        "    input_shape=(224,224,3),\n",
        "    )"
      ]
    },
    {
      "cell_type": "code",
      "execution_count": null,
      "metadata": {
        "id": "rFNvIcS2W5cX"
      },
      "outputs": [],
      "source": [
        "VGG16.trainable = False"
      ]
    },
    {
      "cell_type": "code",
      "execution_count": null,
      "metadata": {
        "id": "Nr4cWI1lW8rR"
      },
      "outputs": [],
      "source": [
        "model = tf.keras.models.Sequential([\n",
        "  VGG16,\n",
        "  tf.keras.layers.Flatten(),\n",
        "  tf.keras.layers.Dropout(0.8),\n",
        "  tf.keras.layers.Dense(units=1024, activation='relu'),\n",
        "  tf.keras.layers.Dense(units=512, activation='relu'),\n",
        "  tf.keras.layers.Dense(units=3, activation='softmax'), \n",
        "])"
      ]
    },
    {
      "cell_type": "code",
      "execution_count": null,
      "metadata": {
        "colab": {
          "base_uri": "https://localhost:8080/"
        },
        "id": "NI5Z9DU2XALH",
        "outputId": "5382585a-d2f6-4fa1-9ba6-8c75296cbd82"
      },
      "outputs": [
        {
          "output_type": "stream",
          "name": "stdout",
          "text": [
            "Model: \"sequential\"\n",
            "_________________________________________________________________\n",
            " Layer (type)                Output Shape              Param #   \n",
            "=================================================================\n",
            " vgg16 (Functional)          (None, 7, 7, 512)         14714688  \n",
            "                                                                 \n",
            " flatten (Flatten)           (None, 25088)             0         \n",
            "                                                                 \n",
            " dropout (Dropout)           (None, 25088)             0         \n",
            "                                                                 \n",
            " dense (Dense)               (None, 1024)              25691136  \n",
            "                                                                 \n",
            " dense_1 (Dense)             (None, 512)               524800    \n",
            "                                                                 \n",
            " dense_2 (Dense)             (None, 3)                 1539      \n",
            "                                                                 \n",
            "=================================================================\n",
            "Total params: 40,932,163\n",
            "Trainable params: 26,217,475\n",
            "Non-trainable params: 14,714,688\n",
            "_________________________________________________________________\n"
          ]
        }
      ],
      "source": [
        "model.compile(\n",
        "    optimizer = 'adam',\n",
        "    loss = 'categorical_crossentropy',\n",
        "    metrics = ['accuracy']\n",
        ")\n",
        "model.summary()"
      ]
    },
    {
      "cell_type": "code",
      "execution_count": null,
      "metadata": {
        "colab": {
          "base_uri": "https://localhost:8080/"
        },
        "id": "-8ojG5EUXCdC",
        "outputId": "a56d630b-f12c-4ef3-b7e1-b5e69b8474cb"
      },
      "outputs": [
        {
          "output_type": "stream",
          "name": "stdout",
          "text": [
            "Epoch 1/15\n",
            "330/330 [==============================] - 5861s 18s/step - loss: 0.3736 - accuracy: 0.8760 - val_loss: 0.1227 - val_accuracy: 0.9614\n",
            "Epoch 2/15\n",
            "330/330 [==============================] - 225s 680ms/step - loss: 0.1996 - accuracy: 0.9195 - val_loss: 0.1174 - val_accuracy: 0.9608\n",
            "Epoch 3/15\n",
            "330/330 [==============================] - 223s 677ms/step - loss: 0.1807 - accuracy: 0.9270 - val_loss: 0.0979 - val_accuracy: 0.9654\n",
            "Epoch 4/15\n",
            "330/330 [==============================] - 225s 681ms/step - loss: 0.1717 - accuracy: 0.9323 - val_loss: 0.1205 - val_accuracy: 0.9508\n",
            "Epoch 5/15\n",
            "330/330 [==============================] - 226s 685ms/step - loss: 0.1665 - accuracy: 0.9348 - val_loss: 0.0992 - val_accuracy: 0.9561\n",
            "Epoch 6/15\n",
            "330/330 [==============================] - 225s 680ms/step - loss: 0.1567 - accuracy: 0.9360 - val_loss: 0.0876 - val_accuracy: 0.9628\n",
            "Epoch 7/15\n",
            "330/330 [==============================] - 224s 678ms/step - loss: 0.1511 - accuracy: 0.9384 - val_loss: 0.0877 - val_accuracy: 0.9648\n",
            "Epoch 8/15\n",
            "330/330 [==============================] - 225s 681ms/step - loss: 0.1450 - accuracy: 0.9412 - val_loss: 0.0826 - val_accuracy: 0.9661\n",
            "Epoch 9/15\n",
            "330/330 [==============================] - 227s 688ms/step - loss: 0.1384 - accuracy: 0.9488 - val_loss: 0.0826 - val_accuracy: 0.9674\n",
            "Epoch 10/15\n",
            "330/330 [==============================] - 226s 684ms/step - loss: 0.1422 - accuracy: 0.9433 - val_loss: 0.0820 - val_accuracy: 0.9661\n",
            "Epoch 11/15\n",
            "330/330 [==============================] - 225s 682ms/step - loss: 0.1368 - accuracy: 0.9423 - val_loss: 0.0806 - val_accuracy: 0.9661\n",
            "Epoch 12/15\n",
            "330/330 [==============================] - 225s 682ms/step - loss: 0.1375 - accuracy: 0.9452 - val_loss: 0.0766 - val_accuracy: 0.9661\n",
            "Epoch 13/15\n",
            "330/330 [==============================] - 222s 674ms/step - loss: 0.1326 - accuracy: 0.9467 - val_loss: 0.0764 - val_accuracy: 0.9694\n",
            "Epoch 14/15\n",
            "330/330 [==============================] - 224s 680ms/step - loss: 0.1255 - accuracy: 0.9493 - val_loss: 0.0720 - val_accuracy: 0.9694\n",
            "Epoch 15/15\n",
            "330/330 [==============================] - 224s 676ms/step - loss: 0.1249 - accuracy: 0.9507 - val_loss: 0.0734 - val_accuracy: 0.9714\n"
          ]
        }
      ],
      "source": [
        "history = model.fit(\n",
        "    x = train, \n",
        "    validation_data = validation,\n",
        "    epochs = 15\n",
        ")"
      ]
    },
    {
      "cell_type": "code",
      "execution_count": null,
      "metadata": {
        "colab": {
          "base_uri": "https://localhost:8080/"
        },
        "id": "qNgzUIl0XF8D",
        "outputId": "16607307-eeff-4cb3-94cf-9deaefa75712"
      },
      "outputs": [
        {
          "output_type": "stream",
          "name": "stdout",
          "text": [
            "95/95 [==============================] - 2035s 22s/step - loss: 0.0722 - accuracy: 0.9708\n",
            "Accuracy: 0.9707932472229004\n",
            "Loss: 0.07216150313615799\n"
          ]
        }
      ],
      "source": [
        "# Evaluate the loss and accuracy\n",
        "loss, accuracy = model.evaluate(test)\n",
        "\n",
        "# Print the accuracy\n",
        "print(\"Accuracy: \" + str(accuracy))\n",
        "# Print the loss\n",
        "print(\"Loss: \" + str(loss))"
      ]
    },
    {
      "cell_type": "code",
      "execution_count": null,
      "metadata": {
        "colab": {
          "base_uri": "https://localhost:8080/"
        },
        "id": "loqbQDUTXIvp",
        "outputId": "8fab9c06-addf-4060-823b-fbf6518598b6"
      },
      "outputs": [
        {
          "output_type": "execute_result",
          "data": {
            "text/plain": [
              "{'Lung-Benign_Tissue': 0,\n",
              " 'Lung_Adenocarcinoma': 1,\n",
              " 'Lung_Squamous_Cell_Carcinoma': 2}"
            ]
          },
          "metadata": {},
          "execution_count": 18
        }
      ],
      "source": [
        "test.class_indices"
      ]
    },
    {
      "cell_type": "code",
      "execution_count": null,
      "metadata": {
        "id": "fBd3mcL-XLQd",
        "colab": {
          "base_uri": "https://localhost:8080/"
        },
        "outputId": "b3ce80e6-7fcb-47ff-f3d4-841f5b3cdad6"
      },
      "outputs": [
        {
          "output_type": "stream",
          "name": "stdout",
          "text": [
            "95/95 [==============================] - 32s 335ms/step\n",
            "                               precision    recall  f1-score   support\n",
            "\n",
            "           Lung-Benign_Tissue       1.00      1.00      1.00      1013\n",
            "          Lung_Adenocarcinoma       0.94      0.97      0.96      1000\n",
            "Lung_Squamous_Cell_Carcinomae       0.97      0.94      0.96      1000\n",
            "\n",
            "                     accuracy                           0.97      3013\n",
            "                    macro avg       0.97      0.97      0.97      3013\n",
            "                 weighted avg       0.97      0.97      0.97      3013\n",
            "\n"
          ]
        }
      ],
      "source": [
        "import numpy as np\n",
        "from sklearn import metrics\n",
        "\n",
        "predictions = model.predict(test)\n",
        "predicted_classes = np.argmax(predictions, axis = 1)\n",
        "true_classes = test.classes\n",
        "class_labels = ['Lung-Benign_Tissue', 'Lung_Adenocarcinoma', 'Lung_Squamous_Cell_Carcinomae']\n",
        "report = metrics.classification_report(true_classes, predicted_classes, target_names = class_labels)\n",
        "print(report)"
      ]
    },
    {
      "cell_type": "code",
      "execution_count": null,
      "metadata": {
        "colab": {
          "base_uri": "https://localhost:8080/",
          "height": 447
        },
        "id": "S5zSwiUrXo2k",
        "outputId": "0e1f8304-b032-4e0e-8bce-828cda3fdf4c"
      },
      "outputs": [
        {
          "output_type": "execute_result",
          "data": {
            "text/plain": [
              "<matplotlib.axes._subplots.AxesSubplot at 0x7fd1ec285510>"
            ]
          },
          "metadata": {},
          "execution_count": 20
        },
        {
          "output_type": "display_data",
          "data": {
            "text/plain": [
              "<Figure size 720x504 with 2 Axes>"
            ],
            "image/png": "[encoded data removed]"
          },
          "metadata": {
            "needs_background": "light"
          }
        }
      ],
      "source": [
        "import seaborn as sn\n",
        "import pandas as pd\n",
        "import matplotlib.pyplot as plt\n",
        "\n",
        "cm = metrics.confusion_matrix(true_classes, predicted_classes)\n",
        "df_cm = pd.DataFrame(cm, index = [i for i in ['Lung-Benign_Tissue', 'Lung_Adenocarcinoma', 'Lung_Squamous_Cell_Carcinomae']],\n",
        "                  columns = [i for i in ['Lung-Benign_Tissue', 'Lung_Adenocarcinoma', 'Lung_Squamous_Cell_Carcinomae']])\n",
        "plt.figure(figsize = (10,7))\n",
        "sn.heatmap(df_cm, annot=True, fmt='d')"
      ]
    },
    {
      "cell_type": "code",
      "execution_count": null,
      "metadata": {
        "id": "uDdZQW_pX0Se",
        "colab": {
          "base_uri": "https://localhost:8080/",
          "height": 573
        },
        "outputId": "959f085e-e1a9-4145-a69e-cf125465896d"
      },
      "outputs": [
        {
          "output_type": "display_data",
          "data": {
            "text/plain": [
              "<Figure size 432x288 with 1 Axes>"
            ],
            "image/png": "[encoded data removed]"
          },
          "metadata": {
            "needs_background": "light"
          }
        },
        {
          "output_type": "display_data",
          "data": {
            "text/plain": [
              "<Figure size 432x288 with 1 Axes>"
            ],
            "image/png": "[encoded data removed]"
          },
          "metadata": {
            "needs_background": "light"
          }
        }
      ],
      "source": [
        "plt.plot(history.history['accuracy'])\n",
        "plt.plot(history.history['val_accuracy'])\n",
        "plt.title(\"model accuacy\")\n",
        "plt.ylabel('accuracy')\n",
        "plt.xlabel('epoch')\n",
        "plt.legend(['train accuracy', 'validation accuracy'], loc='lower right')\n",
        "plt.show()\n",
        "\n",
        "plt.plot(history.history['loss'])\n",
        "plt.plot(history.history['val_loss'])\n",
        "plt.title('model loss')\n",
        "plt.ylabel('loss')\n",
        "plt.xlabel('epoch')\n",
        "plt.legend(['train loss', 'validation loss'], loc='upper right')\n",
        "plt.show()"
      ]
    }
  ],
  "metadata": {
    "accelerator": "GPU",
    "colab": {
      "provenance": []
    },
    "gpuClass": "standard",
    "kernelspec": {
      "display_name": "Python 3",
      "name": "python3"
    },
    "language_info": {
      "name": "python"
    }
  },
  "nbformat": 4,
  "nbformat_minor": 0
}