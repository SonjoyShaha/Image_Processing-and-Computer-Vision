{
  "nbformat": 4,
  "nbformat_minor": 0,
  "metadata": {
    "colab": {
      "provenance": []
    },
    "kernelspec": {
      "name": "python3",
      "display_name": "Python 3"
    },
    "language_info": {
      "name": "python"
    },
    "accelerator": "GPU",
    "gpuClass": "standard"
  },
  "cells": [
    {
      "cell_type": "code",
      "execution_count": null,
      "metadata": {
        "id": "LizQkLbV0rtH"
      },
      "outputs": [],
      "source": [
        "import tensorflow as tf\n",
        "import numpy as np\n",
        "import matplotlib.pyplot as plt\n",
        "\n",
        "import tensorflow_hub as hub\n",
        "import tensorflow_datasets as tfds\n",
        "\n",
        "from tensorflow.keras import layers\n",
        "from tensorflow.keras.preprocessing.image import ImageDataGenerator"
      ]
    },
    {
      "cell_type": "code",
      "source": [
        "from google.colab import drive\n",
        "drive.mount('/content/drive')"
      ],
      "metadata": {
        "colab": {
          "base_uri": "https://localhost:8080/"
        },
        "id": "DM1YfFQ306jo",
        "outputId": "7213d8da-76d5-4d4a-fa78-4a1f684ebf6b"
      },
      "execution_count": null,
      "outputs": [
        {
          "output_type": "stream",
          "name": "stdout",
          "text": [
            "Mounted at /content/drive\n"
          ]
        }
      ]
    },
    {
      "cell_type": "code",
      "source": [
        "import logging\n",
        "logger = tf.get_logger()\n",
        "logger.setLevel(logging.ERROR)"
      ],
      "metadata": {
        "id": "L8LY-ppf1FM8"
      },
      "execution_count": null,
      "outputs": []
    },
    {
      "cell_type": "code",
      "source": [
        "import keras\n",
        "from keras.applications.mobilenet import MobileNet\n",
        "from sklearn.metrics import confusion_matrix\n",
        "from keras.layers.core import Dense, Activation\n",
        "from keras.metrics import categorical_crossentropy\n",
        "from keras.metrics import binary_crossentropy\n",
        "from sklearn.model_selection import train_test_split\n",
        "from keras.preprocessing.image import ImageDataGenerator\n",
        "from keras.applications.mobilenet import preprocess_input\n",
        "from tensorflow.keras.preprocessing import image_dataset_from_directory\n",
        "import tensorflow as tf\n",
        "from keras.preprocessing import image"
      ],
      "metadata": {
        "id": "PDsYK-xm1THi"
      },
      "execution_count": null,
      "outputs": []
    },
    {
      "cell_type": "code",
      "source": [
        "train_datagen = image.ImageDataGenerator(\n",
        "    rescale=1./255,\n",
        "    shear_range = 0.3,\n",
        "    zoom_range = 0.3,\n",
        "    horizontal_flip = True,\n",
        ")\n",
        "validation_datagen = image.ImageDataGenerator(\n",
        "    rescale = 1./255\n",
        ")"
      ],
      "metadata": {
        "id": "Ytx_SEJn9I-B"
      },
      "execution_count": null,
      "outputs": []
    },
    {
      "cell_type": "code",
      "source": [
        "train = train_datagen.flow_from_directory(\n",
        "    '/content/drive/MyDrive/Lung_Cancer_Paper_work/TeamAlgo/Lung_Cancer_DataSet/Lung_CancerLV/Train70',\n",
        "    target_size = (224, 224),\n",
        "    batch_size = 32,\n",
        "    class_mode = 'categorical'\n",
        ")\n",
        "\n",
        "validation = validation_datagen.flow_from_directory(\n",
        "    '/content/drive/MyDrive/Lung_Cancer_Paper_work/TeamAlgo/Lung_Cancer_DataSet/Lung_CancerLV/Validation10',\n",
        "    target_size = (224, 224),\n",
        "    batch_size = 32,\n",
        "    class_mode = 'categorical'\n",
        ")\n",
        "\n",
        "test = validation_datagen.flow_from_directory(\n",
        "    '/content/drive/MyDrive/Lung_Cancer_Paper_work/TeamAlgo/Lung_Cancer_DataSet/Lung_CancerLV/Test20',\n",
        "    target_size = (224, 224),\n",
        "    batch_size = 32,\n",
        "    shuffle = False,\n",
        "    class_mode = 'categorical'\n",
        ")"
      ],
      "metadata": {
        "colab": {
          "base_uri": "https://localhost:8080/"
        },
        "id": "1LT6wfCa9SQq",
        "outputId": "1983118b-8aa5-411a-d4e0-1c925e5c037b"
      },
      "execution_count": null,
      "outputs": [
        {
          "output_type": "stream",
          "name": "stdout",
          "text": [
            "Found 10523 images belonging to 3 classes.\n",
            "Found 1504 images belonging to 3 classes.\n",
            "Found 3000 images belonging to 3 classes.\n"
          ]
        }
      ]
    },
    {
      "cell_type": "code",
      "source": [
        "VGG19 = tf.keras.applications.VGG19(\n",
        "    include_top=False, \n",
        "    weights = 'imagenet', \n",
        "    input_shape=(224,224,3),\n",
        "    )"
      ],
      "metadata": {
        "colab": {
          "base_uri": "https://localhost:8080/"
        },
        "id": "nXrNrfqK9hTU",
        "outputId": "39722f3c-69dd-4878-ec0d-b98288f1e908"
      },
      "execution_count": null,
      "outputs": [
        {
          "output_type": "stream",
          "name": "stdout",
          "text": [
            "Downloading data from https://storage.googleapis.com/tensorflow/keras-applications/vgg19/vgg19_weights_tf_dim_ordering_tf_kernels_notop.h5\n",
            "80134624/80134624 [==============================] - 0s 0us/step\n"
          ]
        }
      ]
    },
    {
      "cell_type": "code",
      "source": [
        "VGG19.trainable = False"
      ],
      "metadata": {
        "id": "xsWS2A4l9ptZ"
      },
      "execution_count": null,
      "outputs": []
    },
    {
      "cell_type": "code",
      "source": [
        "model = tf.keras.models.Sequential([\n",
        "  VGG19,\n",
        "  tf.keras.layers.Flatten(),\n",
        "  tf.keras.layers.Dropout(0.8),\n",
        "  tf.keras.layers.Dense(units=1024, activation='relu'),\n",
        "  tf.keras.layers.Dense(units=512, activation='relu'),\n",
        "  tf.keras.layers.Dense(units=3, activation='softmax'), \n",
        "])"
      ],
      "metadata": {
        "id": "drG4yWXb9tDb"
      },
      "execution_count": null,
      "outputs": []
    },
    {
      "cell_type": "code",
      "source": [
        "model.compile(\n",
        "    optimizer = 'adam',\n",
        "    loss = 'categorical_crossentropy',\n",
        "    metrics = ['accuracy']\n",
        ")\n",
        "model.summary()"
      ],
      "metadata": {
        "colab": {
          "base_uri": "https://localhost:8080/"
        },
        "id": "rnC5EybB9y7o",
        "outputId": "c105f2f4-5ede-4638-b68a-fd9781632aa5"
      },
      "execution_count": null,
      "outputs": [
        {
          "output_type": "stream",
          "name": "stdout",
          "text": [
            "Model: \"sequential\"\n",
            "_________________________________________________________________\n",
            " Layer (type)                Output Shape              Param #   \n",
            "=================================================================\n",
            " vgg19 (Functional)          (None, 7, 7, 512)         20024384  \n",
            "                                                                 \n",
            " flatten (Flatten)           (None, 25088)             0         \n",
            "                                                                 \n",
            " dropout (Dropout)           (None, 25088)             0         \n",
            "                                                                 \n",
            " dense (Dense)               (None, 1024)              25691136  \n",
            "                                                                 \n",
            " dense_1 (Dense)             (None, 512)               524800    \n",
            "                                                                 \n",
            " dense_2 (Dense)             (None, 3)                 1539      \n",
            "                                                                 \n",
            "=================================================================\n",
            "Total params: 46,241,859\n",
            "Trainable params: 26,217,475\n",
            "Non-trainable params: 20,024,384\n",
            "_________________________________________________________________\n"
          ]
        }
      ]
    },
    {
      "cell_type": "code",
      "source": [
        "history = model.fit(\n",
        "    x = train, \n",
        "    validation_data = validation,\n",
        "    epochs = 15\n",
        ")"
      ],
      "metadata": {
        "colab": {
          "base_uri": "https://localhost:8080/"
        },
        "id": "NjfOLNf695FO",
        "outputId": "abeca98a-1835-426a-943d-c2158c4e082f"
      },
      "execution_count": null,
      "outputs": [
        {
          "output_type": "stream",
          "name": "stdout",
          "text": [
            "Epoch 1/15\n",
            "329/329 [==============================] - 2418s 7s/step - loss: 0.5305 - accuracy: 0.8526 - val_loss: 0.2763 - val_accuracy: 0.8803\n",
            "Epoch 2/15\n",
            "329/329 [==============================] - 233s 709ms/step - loss: 0.2372 - accuracy: 0.9032 - val_loss: 0.2051 - val_accuracy: 0.9215\n",
            "Epoch 3/15\n",
            "329/329 [==============================] - 232s 706ms/step - loss: 0.2182 - accuracy: 0.9144 - val_loss: 0.1192 - val_accuracy: 0.9561\n",
            "Epoch 4/15\n",
            "329/329 [==============================] - 235s 714ms/step - loss: 0.2122 - accuracy: 0.9149 - val_loss: 0.1464 - val_accuracy: 0.9428\n",
            "Epoch 5/15\n",
            "329/329 [==============================] - 231s 703ms/step - loss: 0.1937 - accuracy: 0.9217 - val_loss: 0.1212 - val_accuracy: 0.9508\n",
            "Epoch 6/15\n",
            "329/329 [==============================] - 230s 698ms/step - loss: 0.1866 - accuracy: 0.9264 - val_loss: 0.1083 - val_accuracy: 0.9608\n",
            "Epoch 7/15\n",
            "329/329 [==============================] - 231s 701ms/step - loss: 0.1822 - accuracy: 0.9273 - val_loss: 0.1022 - val_accuracy: 0.9614\n",
            "Epoch 8/15\n",
            "329/329 [==============================] - 231s 701ms/step - loss: 0.1831 - accuracy: 0.9280 - val_loss: 0.1366 - val_accuracy: 0.9448\n",
            "Epoch 9/15\n",
            "329/329 [==============================] - 229s 695ms/step - loss: 0.1762 - accuracy: 0.9283 - val_loss: 0.1408 - val_accuracy: 0.9468\n",
            "Epoch 10/15\n",
            "329/329 [==============================] - 230s 700ms/step - loss: 0.1732 - accuracy: 0.9296 - val_loss: 0.1049 - val_accuracy: 0.9541\n",
            "Epoch 11/15\n",
            "329/329 [==============================] - 229s 697ms/step - loss: 0.1653 - accuracy: 0.9329 - val_loss: 0.0878 - val_accuracy: 0.9601\n",
            "Epoch 12/15\n",
            "329/329 [==============================] - 230s 699ms/step - loss: 0.1653 - accuracy: 0.9328 - val_loss: 0.1160 - val_accuracy: 0.9535\n",
            "Epoch 13/15\n",
            "329/329 [==============================] - 229s 697ms/step - loss: 0.1616 - accuracy: 0.9359 - val_loss: 0.0978 - val_accuracy: 0.9581\n",
            "Epoch 14/15\n",
            "329/329 [==============================] - 229s 696ms/step - loss: 0.1513 - accuracy: 0.9383 - val_loss: 0.0857 - val_accuracy: 0.9601\n",
            "Epoch 15/15\n",
            "329/329 [==============================] - 229s 696ms/step - loss: 0.1632 - accuracy: 0.9333 - val_loss: 0.1164 - val_accuracy: 0.9568\n"
          ]
        }
      ]
    },
    {
      "cell_type": "code",
      "source": [
        "# Evaluate the loss and accuracy\n",
        "loss, accuracy = model.evaluate(test)\n",
        "\n",
        "# Print the accuracy\n",
        "print(\"Accuracy: \" + str(accuracy))\n",
        "# Print the loss\n",
        "print(\"Loss: \" + str(loss))"
      ],
      "metadata": {
        "colab": {
          "base_uri": "https://localhost:8080/"
        },
        "id": "qjcvmX6k99B1",
        "outputId": "cdadcc78-9ec6-4363-e757-058d04a41860"
      },
      "execution_count": null,
      "outputs": [
        {
          "output_type": "stream",
          "name": "stdout",
          "text": [
            "94/94 [==============================] - 1051s 11s/step - loss: 0.1329 - accuracy: 0.9533\n",
            "Accuracy: 0.95333331823349\n",
            "Loss: 0.13291141390800476\n"
          ]
        }
      ]
    },
    {
      "cell_type": "code",
      "source": [
        "test.class_indices"
      ],
      "metadata": {
        "colab": {
          "base_uri": "https://localhost:8080/"
        },
        "id": "aSdgVBay-Gxo",
        "outputId": "ed172183-0b14-425f-fe52-92e71c7ae8f7"
      },
      "execution_count": null,
      "outputs": [
        {
          "output_type": "execute_result",
          "data": {
            "text/plain": [
              "{'Lung-Benign_Tissue': 0,\n",
              " 'Lung_Adenocarcinoma': 1,\n",
              " 'Lung_Squamous_Cell_Carcinoma': 2}"
            ]
          },
          "metadata": {},
          "execution_count": 13
        }
      ]
    },
    {
      "cell_type": "code",
      "source": [
        "import numpy as np\n",
        "from sklearn import metrics\n",
        "\n",
        "predictions = model.predict(test)\n",
        "predicted_classes = np.argmax(predictions, axis = 1)\n",
        "true_classes = test.classes\n",
        "class_labels = ['Lung-Benign_Tissue', 'Lung_Adenocarcinoma', 'Lung_Squamous_Cell_Carcinoma']\n",
        "report = metrics.classification_report(true_classes, predicted_classes, target_names = class_labels)\n",
        "print(report)"
      ],
      "metadata": {
        "colab": {
          "base_uri": "https://localhost:8080/"
        },
        "id": "rHeGyZVZ-H2X",
        "outputId": "624232f1-4780-4b54-ffbe-d76e61eb77a0"
      },
      "execution_count": null,
      "outputs": [
        {
          "output_type": "stream",
          "name": "stdout",
          "text": [
            "94/94 [==============================] - 34s 360ms/step\n",
            "                              precision    recall  f1-score   support\n",
            "\n",
            "          Lung-Benign_Tissue       0.97      1.00      0.98      1000\n",
            "         Lung_Adenocarcinoma       0.94      0.92      0.93      1000\n",
            "Lung_Squamous_Cell_Carcinoma       0.95      0.94      0.95      1000\n",
            "\n",
            "                    accuracy                           0.95      3000\n",
            "                   macro avg       0.95      0.95      0.95      3000\n",
            "                weighted avg       0.95      0.95      0.95      3000\n",
            "\n"
          ]
        }
      ]
    },
    {
      "cell_type": "code",
      "source": [
        "import seaborn as sn\n",
        "import pandas as pd\n",
        "import matplotlib.pyplot as plt\n",
        "\n",
        "cm = metrics.confusion_matrix(true_classes, predicted_classes)\n",
        "df_cm = pd.DataFrame(cm, index = [i for i in ['Lung-Benign_Tissue', 'Lung_Adenocarcinoma', 'Lung_Squamous_Cell_Carcinoma']],\n",
        "                  columns = [i for i in ['Lung-Benign_Tissue', 'Lung_Adenocarcinoma', 'Lung_Squamous_Cell_Carcinoma']])\n",
        "plt.figure(figsize = (10,7))\n",
        "sn.heatmap(df_cm, annot=True, fmt='d')"
      ],
      "metadata": {
        "colab": {
          "base_uri": "https://localhost:8080/",
          "height": 450
        },
        "id": "CiLRs6dE-KiY",
        "outputId": "eb49dff5-b498-4472-915b-7568da384f33"
      },
      "execution_count": null,
      "outputs": [
        {
          "output_type": "execute_result",
          "data": {
            "text/plain": [
              "<matplotlib.axes._subplots.AxesSubplot at 0x7faa40603e10>"
            ]
          },
          "metadata": {},
          "execution_count": 22
        },
        {
          "output_type": "display_data",
          "data": {
            "text/plain": [
              "<Figure size 720x504 with 2 Axes>"
            ],
            "image/png": "[encoded data removed]"
          },
          "metadata": {
            "needs_background": "light"
          }
        }
      ]
    },
    {
      "cell_type": "code",
      "source": [
        "plt.plot(history.history['accuracy'])\n",
        "plt.plot(history.history['val_accuracy'])\n",
        "plt.title(\"model accuacy\")\n",
        "plt.ylabel('accuracy')\n",
        "plt.xlabel('epoch')\n",
        "plt.legend(['train accuracy', 'validation accuracy'], loc='lower right')\n",
        "plt.show()\n",
        "\n",
        "plt.plot(history.history['loss'])\n",
        "plt.plot(history.history['val_loss'])\n",
        "plt.title('model loss')\n",
        "plt.ylabel('loss')\n",
        "plt.xlabel('epoch')\n",
        "plt.legend(['train loss', 'validation loss'], loc='upper right')\n",
        "plt.show()"
      ],
      "metadata": {
        "colab": {
          "base_uri": "https://localhost:8080/",
          "height": 573
        },
        "id": "VFEUYQo7-Opq",
        "outputId": "69a86a24-d40d-479b-b243-1ca7d6670674"
      },
      "execution_count": null,
      "outputs": [
        {
          "output_type": "display_data",
          "data": {
            "text/plain": [
              "<Figure size 432x288 with 1 Axes>"
            ],
            "image/png": "[encoded data removed]"
          },
          "metadata": {
            "needs_background": "light"
          }
        },
        {
          "output_type": "display_data",
          "data": {
            "text/plain": [
              "<Figure size 432x288 with 1 Axes>"
            ],
            "image/png": "[encoded data removed]"
          },
          "metadata": {
            "needs_background": "light"
          }
        }
      ]
    }
  ]
}